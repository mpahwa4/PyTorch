{
 "cells": [
  {
   "cell_type": "code",
   "execution_count": 42,
   "id": "1a0382fd",
   "metadata": {},
   "outputs": [],
   "source": [
    "import torch"
   ]
  },
  {
   "cell_type": "code",
   "execution_count": 43,
   "id": "1abe26a7",
   "metadata": {},
   "outputs": [
    {
     "name": "stdout",
     "output_type": "stream",
     "text": [
      "tensor([-1.3231, -0.5983,  2.0973], requires_grad=True)\n"
     ]
    }
   ],
   "source": [
    "x = torch.randn(3, requires_grad=True)\n",
    "print(x)"
   ]
  },
  {
   "cell_type": "code",
   "execution_count": 44,
   "id": "f09012a9",
   "metadata": {},
   "outputs": [
    {
     "name": "stdout",
     "output_type": "stream",
     "text": [
      "tensor([0.6769, 1.4017, 4.0973], grad_fn=<AddBackward0>)\n",
      "tensor([3.5010, 0.7158, 8.7969], grad_fn=<MulBackward0>)\n",
      "tensor(0.0586, grad_fn=<MeanBackward0>)\n"
     ]
    }
   ],
   "source": [
    "y = x+2\n",
    "print(y) #keeps track of operation\n",
    "y = x*x*2\n",
    "print(y)\n",
    "y = x.mean()\n",
    "print(y)"
   ]
  },
  {
   "cell_type": "code",
   "execution_count": 45,
   "id": "075b668b",
   "metadata": {},
   "outputs": [
    {
     "name": "stdout",
     "output_type": "stream",
     "text": [
      "tensor([0.3333, 0.3333, 0.3333])\n",
      "tensor([-0.1959, -2.0597,  0.3417])\n"
     ]
    }
   ],
   "source": [
    "#calculate gradient\n",
    "\n",
    "y.backward() #dy/dx - no argument required as y is scalar (mean)\n",
    "print(x.grad)\n",
    "y = x*x*2\n",
    "v = torch.tensor([0.1,1.0,0.001], dtype=torch.float32)\n",
    "y.backward(v) #pass tensor of same size\n",
    "print(x.grad)"
   ]
  },
  {
   "cell_type": "code",
   "execution_count": 46,
   "id": "8a4bf6fd",
   "metadata": {},
   "outputs": [
    {
     "name": "stdout",
     "output_type": "stream",
     "text": [
      "tensor([ 0.6122,  0.6284, -0.5484], requires_grad=True)\n",
      "tensor([ 0.6122,  0.6284, -0.5484])\n",
      "tensor([-0.0534,  1.2201, -0.1765])\n",
      "tensor([1.9466, 3.2201, 1.8235])\n"
     ]
    }
   ],
   "source": [
    "#prevent pytorch from tracking gradient (eg. not needed \n",
    "#when updating weights during training)\n",
    "\n",
    "x = torch.randn(3, requires_grad=True)\n",
    "print(x)\n",
    "x.requires_grad_(False) #method 1\n",
    "print(x)\n",
    "x = torch.randn(3, requires_grad=True)\n",
    "y = x.detach() #method 2\n",
    "print(y)\n",
    "with torch.no_grad(): #method 3\n",
    "    y = x+2\n",
    "    print(y)"
   ]
  },
  {
   "cell_type": "code",
   "execution_count": 53,
   "id": "6cee99b5",
   "metadata": {},
   "outputs": [
    {
     "name": "stdout",
     "output_type": "stream",
     "text": [
      "tensor([3., 3., 3., 3.])\n",
      "tensor([6., 6., 6., 6.])\n",
      "\n",
      "tensor([3., 3., 3., 3.])\n",
      "tensor([3., 3., 3., 3.])\n"
     ]
    }
   ],
   "source": [
    "#preventing gradients from accumulating\n",
    "\n",
    "weights = torch.ones(4, requires_grad=True)\n",
    "for epoch in range(2):\n",
    "    model_output = (weights*3).sum()\n",
    "    \n",
    "    model_output.backward()\n",
    "    \n",
    "    print(weights.grad) #accumulating\n",
    "\n",
    "print()\n",
    "weights = torch.ones(4, requires_grad=True)\n",
    "for epoch in range(2):\n",
    "    model_output = (weights*3).sum()\n",
    "    \n",
    "    model_output.backward()\n",
    "    \n",
    "    print(weights.grad)\n",
    "    \n",
    "    weights.grad.zero_() #empty gradient\n",
    "    "
   ]
  }
 ],
 "metadata": {
  "kernelspec": {
   "display_name": "Python 3 (ipykernel)",
   "language": "python",
   "name": "python3"
  },
  "language_info": {
   "codemirror_mode": {
    "name": "ipython",
    "version": 3
   },
   "file_extension": ".py",
   "mimetype": "text/x-python",
   "name": "python",
   "nbconvert_exporter": "python",
   "pygments_lexer": "ipython3",
   "version": "3.11.5"
  }
 },
 "nbformat": 4,
 "nbformat_minor": 5
}
