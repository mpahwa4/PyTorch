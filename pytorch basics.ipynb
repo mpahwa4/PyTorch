{
 "cells": [
  {
   "cell_type": "code",
   "execution_count": 3,
   "id": "6a579473",
   "metadata": {},
   "outputs": [],
   "source": [
    "import torch"
   ]
  },
  {
   "cell_type": "code",
   "execution_count": 35,
   "id": "1ec03790",
   "metadata": {},
   "outputs": [],
   "source": [
    "x = torch.tensor([2.5,0.1], dtype=torch.float16)"
   ]
  },
  {
   "cell_type": "code",
   "execution_count": 36,
   "id": "2f289146",
   "metadata": {},
   "outputs": [
    {
     "name": "stdout",
     "output_type": "stream",
     "text": [
      "tensor([2.5000, 0.1000], dtype=torch.float16)\n",
      "torch.Size([2])\n",
      "torch.float16\n"
     ]
    }
   ],
   "source": [
    "print(x)\n",
    "print(x.size())\n",
    "print(x.dtype)"
   ]
  },
  {
   "cell_type": "code",
   "execution_count": 37,
   "id": "6e87045c",
   "metadata": {},
   "outputs": [
    {
     "name": "stdout",
     "output_type": "stream",
     "text": [
      "tensor([[0.8723, 0.8724],\n",
      "        [0.3500, 0.7826]]) \n",
      " tensor([[0.7699, 0.2099],\n",
      "        [0.2095, 0.8826]])\n"
     ]
    }
   ],
   "source": [
    "x = torch.rand(2,2)\n",
    "y = torch.rand(2,2)\n",
    "print(x, '\\n', y)"
   ]
  },
  {
   "cell_type": "code",
   "execution_count": 43,
   "id": "eab63a6e",
   "metadata": {},
   "outputs": [
    {
     "name": "stdout",
     "output_type": "stream",
     "text": [
      "tensor([[2.5145, 1.9547],\n",
      "        [0.9096, 2.4478]])\n",
      "tensor([[2.5145, 1.9547],\n",
      "        [0.9096, 2.4478]])\n",
      "tensor([[2.5145, 1.9547],\n",
      "        [0.9096, 2.4478]])\n",
      "tensor([[-1.6422, -1.0823],\n",
      "        [-0.5595, -1.6652]])\n"
     ]
    }
   ],
   "source": [
    "#element wise addition\n",
    "z = x + y\n",
    "print(z)\n",
    "z = torch.add(x,y)\n",
    "print(z)\n",
    "\n",
    "#inplace addition\n",
    "y.add_(x) # modifies y\n",
    "print(y)\n",
    "\n",
    "#element wise subtraction\n",
    "z = x - y\n",
    "z = torch.sub(x,y)\n",
    "print(z)"
   ]
  },
  {
   "cell_type": "code",
   "execution_count": 47,
   "id": "5bcdd179",
   "metadata": {},
   "outputs": [
    {
     "name": "stdout",
     "output_type": "stream",
     "text": [
      "tensor([[0.9951, 0.8857, 0.8131],\n",
      "        [0.4291, 0.4185, 0.6035],\n",
      "        [0.7163, 0.8769, 0.4684],\n",
      "        [0.7463, 0.2793, 0.5573],\n",
      "        [0.7901, 0.7530, 0.8100]])\n",
      "tensor([0.9951, 0.4291, 0.7163, 0.7463, 0.7901])\n",
      "tensor([0.4291, 0.4185, 0.6035])\n",
      "tensor(0.4185) 0.4185420274734497\n"
     ]
    }
   ],
   "source": [
    "#slicing\n",
    "x = torch.rand(5,3)\n",
    "print(x)\n",
    "print(x[:,0])\n",
    "print(x[1,:])\n",
    "print(x[1,1], x[1,1].item())"
   ]
  },
  {
   "cell_type": "code",
   "execution_count": 57,
   "id": "6d2f6c16",
   "metadata": {},
   "outputs": [
    {
     "name": "stdout",
     "output_type": "stream",
     "text": [
      "torch.Size([4, 4])\n",
      "torch.Size([16])\n",
      "torch.Size([2, 8])\n"
     ]
    }
   ],
   "source": [
    "#reshaping\n",
    "x = torch.rand(4,4)\n",
    "print(x.shape)\n",
    "y = x.view(16)\n",
    "print(y.shape)\n",
    "y = x.view(-1, 8)\n",
    "print(y.shape)"
   ]
  },
  {
   "cell_type": "code",
   "execution_count": 67,
   "id": "9b35d627",
   "metadata": {},
   "outputs": [
    {
     "name": "stdout",
     "output_type": "stream",
     "text": [
      "tensor([1., 1., 1., 1., 1.])\n",
      "[1. 1. 1. 1. 1.] <class 'numpy.ndarray'>\n",
      "tensor([2., 2., 2., 2., 2.])  |  [2. 2. 2. 2. 2.]\n",
      "\n",
      "[1. 1. 1. 1. 1.]\n",
      "tensor([1., 1., 1., 1., 1.], dtype=torch.float64)\n",
      "[2. 2. 2. 2. 2.]  |  tensor([2., 2., 2., 2., 2.], dtype=torch.float64)\n"
     ]
    }
   ],
   "source": [
    "#converting to numpy\n",
    "import numpy as np\n",
    "\n",
    "a = torch.ones(5)\n",
    "print(a)\n",
    "b = a.numpy()\n",
    "print(b, type(b)) #note, if on CPU, both objects are in the same memory location\n",
    "a.add_(1)\n",
    "print(a, \" | \", b)\n",
    "print()\n",
    "\n",
    "#converting from numpy\n",
    "a = np.ones(5)\n",
    "print(a)\n",
    "b = torch.from_numpy(a) #again, both are in same memory if on CPU\n",
    "print(b)\n",
    "a += 1\n",
    "print(a, \" | \", b)"
   ]
  },
  {
   "cell_type": "code",
   "execution_count": 69,
   "id": "536c8286",
   "metadata": {},
   "outputs": [
    {
     "data": {
      "text/plain": [
       "tensor([1., 1., 1., 1., 1.], requires_grad=True)"
      ]
     },
     "execution_count": 69,
     "metadata": {},
     "output_type": "execute_result"
    }
   ],
   "source": [
    "#require gradient - if needed for optimization\n",
    "x = torch.ones(5, requires_grad=True)\n",
    "x"
   ]
  },
  {
   "cell_type": "code",
   "execution_count": null,
   "id": "bd6ba152",
   "metadata": {},
   "outputs": [],
   "source": []
  }
 ],
 "metadata": {
  "kernelspec": {
   "display_name": "Python 3 (ipykernel)",
   "language": "python",
   "name": "python3"
  },
  "language_info": {
   "codemirror_mode": {
    "name": "ipython",
    "version": 3
   },
   "file_extension": ".py",
   "mimetype": "text/x-python",
   "name": "python",
   "nbconvert_exporter": "python",
   "pygments_lexer": "ipython3",
   "version": "3.11.5"
  }
 },
 "nbformat": 4,
 "nbformat_minor": 5
}
