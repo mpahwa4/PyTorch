{
 "cells": [
  {
   "cell_type": "code",
   "execution_count": 33,
   "id": "f28ac78e",
   "metadata": {},
   "outputs": [],
   "source": [
    "import torch\n",
    "import torch.nn as nn\n",
    "import torchvision\n",
    "import torch.nn.functional as F\n",
    "import torchvision.transforms as transforms\n",
    "import matplotlib.pyplot as plt\n",
    "import numpy as np"
   ]
  },
  {
   "cell_type": "code",
   "execution_count": 34,
   "id": "020db8b7",
   "metadata": {},
   "outputs": [],
   "source": [
    "# device config for GPU support\n",
    "\n",
    "device = torch.device('cuda' if torch.cuda.is_available() else 'cpu')"
   ]
  },
  {
   "cell_type": "code",
   "execution_count": 35,
   "id": "803a85ee",
   "metadata": {},
   "outputs": [],
   "source": [
    "# hyper parameters\n",
    "\n",
    "n_epochs = 8\n",
    "batch_size = 4\n",
    "learning_rate = 0.0004"
   ]
  },
  {
   "cell_type": "code",
   "execution_count": 36,
   "id": "caf01988",
   "metadata": {},
   "outputs": [
    {
     "name": "stdout",
     "output_type": "stream",
     "text": [
      "Files already downloaded and verified\n",
      "Files already downloaded and verified\n"
     ]
    }
   ],
   "source": [
    "# transforms and datasets\n",
    "\n",
    "# dataset has range of [0,1], we are transforming to [-1.1]\n",
    "transform = transforms.Compose([transforms.ToTensor(), transforms.Normalize((0.5,0.5,0.5),(0.5,0.5,0.5))])\n",
    "\n",
    "train = torchvision.datasets.CIFAR10(root='./data', train=True, download=True, transform=transform)\n",
    "test = torchvision.datasets.CIFAR10(root='./data', train=False, download=True, transform=transform)\n",
    "train_loader = torch.utils.data.DataLoader(dataset=train, shuffle=True, batch_size=batch_size)\n",
    "test_loader = torch.utils.data.DataLoader(dataset=test, shuffle=False, batch_size=batch_size)\n",
    "classes = ['plane', 'car', 'bird', 'cat', 'deer', 'dog', 'frog', 'horse','ship', 'truck']"
   ]
  },
  {
   "cell_type": "code",
   "execution_count": 37,
   "id": "61f0c454",
   "metadata": {},
   "outputs": [],
   "source": [
    "# model\n",
    "\n",
    "class ConvNet(nn.Module):\n",
    "    \n",
    "    def __init__(self):\n",
    "        super(ConvNet, self).__init__()\n",
    "        self.conv1 = nn.Conv2d(3, 6, 5)\n",
    "        self.pool = nn.MaxPool2d(2, 2)\n",
    "        self.conv2 = nn.Conv2d(6, 16, 5)\n",
    "        self.fc1 = nn.Linear(16*5*5, 120)\n",
    "        self.fc2 = nn.Linear(120, 84)\n",
    "        self.fc3 = nn.Linear(84, 10)\n",
    "        \n",
    "    def forward(self, x):\n",
    "        x = self.pool(F.relu(self.conv1(x)))\n",
    "        x = self.pool(F.relu(self.conv2(x)))\n",
    "        x = x.view(-1, 16*5*5)\n",
    "        x = F.relu(self.fc1(x))\n",
    "        x = F.relu(self.fc2(x))\n",
    "        x = self.fc3(x)\n",
    "        return x\n",
    "    \n",
    "model = ConvNet().to(device)"
   ]
  },
  {
   "cell_type": "code",
   "execution_count": 38,
   "id": "832ce070",
   "metadata": {},
   "outputs": [],
   "source": [
    "# loss and optimizer\n",
    "\n",
    "criterion = nn.CrossEntropyLoss()\n",
    "optimizer = torch.optim.SGD(model.parameters(), lr=learning_rate)"
   ]
  },
  {
   "cell_type": "code",
   "execution_count": null,
   "id": "a72d4e64",
   "metadata": {},
   "outputs": [
    {
     "name": "stdout",
     "output_type": "stream",
     "text": [
      "epoch 1/8, step 2000/12500, loss: 2.3084\n",
      "epoch 1/8, step 4000/12500, loss: 2.3608\n",
      "epoch 1/8, step 6000/12500, loss: 2.2890\n",
      "epoch 1/8, step 8000/12500, loss: 2.2690\n",
      "epoch 1/8, step 10000/12500, loss: 2.3149\n",
      "epoch 1/8, step 12000/12500, loss: 2.2685\n",
      "epoch 2/8, step 2000/12500, loss: 2.2946\n",
      "epoch 2/8, step 4000/12500, loss: 2.2971\n",
      "epoch 2/8, step 6000/12500, loss: 2.2729\n",
      "epoch 2/8, step 8000/12500, loss: 2.2829\n",
      "epoch 2/8, step 10000/12500, loss: 2.2741\n",
      "epoch 2/8, step 12000/12500, loss: 2.2079\n",
      "epoch 3/8, step 2000/12500, loss: 1.9644\n",
      "epoch 3/8, step 4000/12500, loss: 2.0525\n",
      "epoch 3/8, step 6000/12500, loss: 2.6676\n",
      "epoch 3/8, step 8000/12500, loss: 1.5187\n",
      "epoch 3/8, step 10000/12500, loss: 1.4789\n",
      "epoch 3/8, step 12000/12500, loss: 1.9248\n",
      "epoch 4/8, step 2000/12500, loss: 1.3216\n",
      "epoch 4/8, step 4000/12500, loss: 1.6703\n",
      "epoch 4/8, step 6000/12500, loss: 1.5048\n",
      "epoch 4/8, step 8000/12500, loss: 1.1851\n",
      "epoch 4/8, step 10000/12500, loss: 2.1346\n",
      "epoch 4/8, step 12000/12500, loss: 2.8445\n",
      "epoch 5/8, step 2000/12500, loss: 2.6656\n",
      "epoch 5/8, step 4000/12500, loss: 1.4889\n",
      "epoch 5/8, step 6000/12500, loss: 1.6482\n"
     ]
    }
   ],
   "source": [
    "n_total_steps = len(train_loader)\n",
    "\n",
    "for epoch in range(n_epochs):\n",
    "    for i, (images, labels) in enumerate(train_loader):\n",
    "        # original shape [4,3,32,32] = [4,3,1024]\n",
    "        # input_later = 3 input channels (rgb), 6 output channels, 5 kernel size\n",
    "        images = images.to(device)\n",
    "        labels = labels.to(device)\n",
    "        \n",
    "        # forward pass\n",
    "        outputs = model(images)\n",
    "        loss = criterion(outputs, labels)\n",
    "        \n",
    "        # backward pass\n",
    "        optimizer.zero_grad()\n",
    "        loss.backward()\n",
    "        optimizer.step()\n",
    "        \n",
    "        if (i+1) % 2000 == 0:\n",
    "            print(f'epoch {epoch+1}/{n_epochs}, step {i+1}/{n_total_steps}, loss: {loss.item():.4f}')\n"
   ]
  },
  {
   "cell_type": "code",
   "execution_count": 18,
   "id": "f488024b",
   "metadata": {},
   "outputs": [
    {
     "name": "stdout",
     "output_type": "stream",
     "text": [
      "Accuracy of network: 58.53\n",
      "Accuracy of plane: 61.1\n",
      "Accuracy of car: 63.3\n",
      "Accuracy of bird: 34.1\n",
      "Accuracy of cat: 31.7\n",
      "Accuracy of deer: 57.99999999999999\n",
      "Accuracy of dog: 49.4\n",
      "Accuracy of frog: 70.39999999999999\n",
      "Accuracy of horse: 72.5\n",
      "Accuracy of ship: 72.2\n",
      "Accuracy of truck: 72.6\n"
     ]
    }
   ],
   "source": [
    "with torch.no_grad():\n",
    "    n_correct = 0\n",
    "    n_samples = 0\n",
    "    n_class_correct = [0 for i in range(10)]\n",
    "    n_class_samples = [0 for i in range(10)]\n",
    "    \n",
    "    for images, labels in test_loader:\n",
    "        images = images.to(device)\n",
    "        labels = labels.to(device)\n",
    "        outputs = model(images)\n",
    "        \n",
    "        _, predicted = torch.max(outputs, 1)\n",
    "        n_samples += labels.size(0)\n",
    "        n_correct += (predicted == labels).sum().item()\n",
    "        \n",
    "        for i in range(batch_size):\n",
    "            label = labels[i]\n",
    "            pred = predicted[i]\n",
    "            if (label == pred):\n",
    "                n_class_correct[label] += 1\n",
    "            n_class_samples[label] += 1\n",
    "            \n",
    "    acc = (n_correct/n_samples) * 100\n",
    "    print(f'Accuracy of network: {acc}')\n",
    "    \n",
    "    for i in range(10):\n",
    "        acc = (n_class_correct[i]/n_class_samples[i]) * 100\n",
    "        print(f'Accuracy of {classes[i]}: {acc}')\n",
    "        "
   ]
  },
  {
   "cell_type": "code",
   "execution_count": null,
   "id": "88fe01b3",
   "metadata": {},
   "outputs": [],
   "source": []
  }
 ],
 "metadata": {
  "kernelspec": {
   "display_name": "Python 3 (ipykernel)",
   "language": "python",
   "name": "python3"
  },
  "language_info": {
   "codemirror_mode": {
    "name": "ipython",
    "version": 3
   },
   "file_extension": ".py",
   "mimetype": "text/x-python",
   "name": "python",
   "nbconvert_exporter": "python",
   "pygments_lexer": "ipython3",
   "version": "3.11.5"
  }
 },
 "nbformat": 4,
 "nbformat_minor": 5
}
